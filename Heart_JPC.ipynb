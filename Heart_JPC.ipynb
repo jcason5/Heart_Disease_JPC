{
 "cells": [
  {
   "cell_type": "code",
   "execution_count": 3,
   "id": "b7d458db",
   "metadata": {},
   "outputs": [],
   "source": [
    "import numpy as np"
   ]
  },
  {
   "cell_type": "code",
   "execution_count": 4,
   "id": "82a1eb76",
   "metadata": {},
   "outputs": [],
   "source": [
    "data=np.genfromtxt(\"heart.csv\",delimiter=\",\",skip_header=True)"
   ]
  },
  {
   "cell_type": "markdown",
   "id": "801940f5",
   "metadata": {},
   "source": [
    "### Extracting relevent column Data"
   ]
  },
  {
   "cell_type": "code",
   "execution_count": 20,
   "id": "cb1e46e7",
   "metadata": {},
   "outputs": [
    {
     "name": "stdout",
     "output_type": "stream",
     "text": [
      "sex: [1. 1. 0. 1. 0. 1. 0. 1. 1.]\n",
      "target: [1. 1. 1. 1. 1. 1. 1. 1. 1.]\n",
      "chol: [233. 250. 204. 236. 354. 192. 294. 263. 199.]\n",
      "trestbps: [145. 130. 130. 120. 120. 140. 140. 120. 172.]\n",
      "age: [63. 37. 41. 56. 57. 57. 56. 44. 52.]\n"
     ]
    }
   ],
   "source": [
    "sex=data[:,1]\n",
    "print(f\"sex: {sex[:9]}\")\n",
    "target=data[:,13]\n",
    "print(f\"target: {target[:9]}\")\n",
    "chol=data[:,4]\n",
    "print(f\"chol: {chol[:9]}\")\n",
    "trestbps=data[:,3]\n",
    "print(f\"trestbps: {trestbps[:9]}\")\n",
    "age=data[:,0]\n",
    "print(f\"age: {age[:9]}\")"
   ]
  },
  {
   "cell_type": "code",
   "execution_count": 21,
   "id": "19072819",
   "metadata": {},
   "outputs": [
    {
     "name": "stdout",
     "output_type": "stream",
     "text": [
      "----Basic Descriptive Statistics on Age----\n",
      "Mean, 54\n",
      "Median, 55.0\n",
      "Standard Deviation, 9\n",
      "Minimum, 29.0\n",
      "Maximum, 77.0\n"
     ]
    }
   ],
   "source": [
    "#Age\n",
    "print(\"----Basic Descriptive Statistics on Age----\")\n",
    "print(f\"Mean, {round(np.mean(age))}\")\n",
    "print(f\"Median, {np.median(age)}\")\n",
    "print(f\"Standard Deviation, {round(np.std(age))}\")\n",
    "print(f\"Minimum, {np.min(age)}\")\n",
    "print(f\"Maximum, {np.max(age)}\")"
   ]
  },
  {
   "cell_type": "code",
   "execution_count": 36,
   "id": "9fdc417c",
   "metadata": {},
   "outputs": [
    {
     "name": "stdout",
     "output_type": "stream",
     "text": [
      "----Basic Descriptive Statistics on Chol----\n",
      "Mean, 246\n",
      "Median, 240.0\n",
      "Standard Deviation, 52\n",
      "Minimum, 126.0\n",
      "Maximum, 564.0\n"
     ]
    }
   ],
   "source": [
    "#Chol\n",
    "print(\"----Basic Descriptive Statistics on Chol----\")\n",
    "print(f\"Mean, {round(np.mean(chol))}\")\n",
    "print(f\"Median, {np.median(chol)}\")\n",
    "print(f\"Standard Deviation, {round(np.std(chol))}\")\n",
    "print(f\"Minimum, {np.min(chol)}\")\n",
    "print(f\"Maximum, {np.max(chol)}\")"
   ]
  },
  {
   "cell_type": "code",
   "execution_count": 37,
   "id": "587ab3fb",
   "metadata": {},
   "outputs": [
    {
     "name": "stdout",
     "output_type": "stream",
     "text": [
      "----Basic Descriptive Statistics on trestbps----\n",
      "Mean, 132\n",
      "Median, 130.0\n",
      "Standard Deviation, 18\n",
      "Minimum, 94.0\n",
      "Maximum, 200.0\n"
     ]
    }
   ],
   "source": [
    "#trestbps\n",
    "print(\"----Basic Descriptive Statistics on trestbps----\")\n",
    "print(f\"Mean, {round(np.mean(trestbps))}\")\n",
    "print(f\"Median, {np.median(trestbps)}\")\n",
    "print(f\"Standard Deviation, {round(np.std(trestbps))}\")\n",
    "print(f\"Minimum, {np.min(trestbps)}\")\n",
    "print(f\"Maximum, {np.max(trestbps)}\")"
   ]
  },
  {
   "cell_type": "markdown",
   "id": "c402e327",
   "metadata": {},
   "source": [
    "### Data Filtering\n",
    "* Target: 1 has heart disease and 0 does not"
   ]
  },
  {
   "cell_type": "code",
   "execution_count": 18,
   "id": "31f9d76d",
   "metadata": {},
   "outputs": [
    {
     "name": "stdout",
     "output_type": "stream",
     "text": [
      "Number of rows before filtering: 303\n"
     ]
    }
   ],
   "source": [
    "print(f\"Number of rows before filtering: {len(data)}\")"
   ]
  },
  {
   "cell_type": "markdown",
   "id": "7eb701c6",
   "metadata": {},
   "source": [
    "How many people have heart disease"
   ]
  },
  {
   "cell_type": "code",
   "execution_count": 47,
   "id": "a50e2bf3",
   "metadata": {},
   "outputs": [
    {
     "name": "stdout",
     "output_type": "stream",
     "text": [
      "Number of people with heart disease: 165\n"
     ]
    }
   ],
   "source": [
    "filtered_data=data[(target==1)]\n",
    "print(f\"Number of people with heart disease: {len(filtered_data)}\")"
   ]
  },
  {
   "cell_type": "markdown",
   "id": "678fd60c",
   "metadata": {},
   "source": [
    "How many people over the average age of 54 have heart disease"
   ]
  },
  {
   "cell_type": "code",
   "execution_count": 46,
   "id": "cf8e0781",
   "metadata": {},
   "outputs": [
    {
     "name": "stdout",
     "output_type": "stream",
     "text": [
      "Number of people over 54 with heart disease: 65\n"
     ]
    }
   ],
   "source": [
    "filtered_data=data[(age>54) & (target==1)]\n",
    "print(f\"Number of people over 54 with heart disease: {len(filtered_data)}\")"
   ]
  },
  {
   "cell_type": "markdown",
   "id": "6c2fdd94",
   "metadata": {},
   "source": [
    "### Men and women in study\n",
    "* men = 0\n",
    "* women = 1"
   ]
  },
  {
   "cell_type": "markdown",
   "id": "597d736d",
   "metadata": {},
   "source": [
    "number of women in data set"
   ]
  },
  {
   "cell_type": "code",
   "execution_count": 42,
   "id": "f93d229e",
   "metadata": {},
   "outputs": [
    {
     "name": "stdout",
     "output_type": "stream",
     "text": [
      "Number of women in data set: 207\n"
     ]
    }
   ],
   "source": [
    "filtered_data=data[(sex==1)]\n",
    "print(f\"Number of women in data set: {len(filtered_data)}\")"
   ]
  },
  {
   "cell_type": "markdown",
   "id": "3f9ffd86",
   "metadata": {},
   "source": [
    "How many women have heart disease"
   ]
  },
  {
   "cell_type": "code",
   "execution_count": 43,
   "id": "64f3536e",
   "metadata": {},
   "outputs": [
    {
     "name": "stdout",
     "output_type": "stream",
     "text": [
      "Number of women with heart disease: 93\n"
     ]
    }
   ],
   "source": [
    "filtered_data=data[(sex==1) & (target==1)]\n",
    "print(f\"Number of women with heart disease: {len(filtered_data)}\")"
   ]
  },
  {
   "cell_type": "markdown",
   "id": "8e046e93",
   "metadata": {},
   "source": [
    "number of men in data set"
   ]
  },
  {
   "cell_type": "code",
   "execution_count": 44,
   "id": "4859b9aa",
   "metadata": {},
   "outputs": [
    {
     "name": "stdout",
     "output_type": "stream",
     "text": [
      "Number of men in data set: 96\n"
     ]
    }
   ],
   "source": [
    "filtered_data=data[(sex==0)]\n",
    "print(f\"Number of men in data set: {len(filtered_data)}\")"
   ]
  },
  {
   "cell_type": "markdown",
   "id": "ff85ec8a",
   "metadata": {},
   "source": [
    "How many men have heart disease"
   ]
  },
  {
   "cell_type": "code",
   "execution_count": 45,
   "id": "aa4e85e2",
   "metadata": {},
   "outputs": [
    {
     "name": "stdout",
     "output_type": "stream",
     "text": [
      "Number of men with heart disease: 72\n"
     ]
    }
   ],
   "source": [
    "filtered_data=data[(sex==0) & (target==1)]\n",
    "print(f\"Number of men with heart disease: {len(filtered_data)}\")"
   ]
  },
  {
   "cell_type": "markdown",
   "id": "fb1dabf9",
   "metadata": {},
   "source": [
    "### Chol in study"
   ]
  },
  {
   "cell_type": "markdown",
   "id": "b80a77ec",
   "metadata": {},
   "source": [
    "how many people with chol over 246 have heart disease"
   ]
  },
  {
   "cell_type": "code",
   "execution_count": 39,
   "id": "8b851fdf",
   "metadata": {},
   "outputs": [
    {
     "name": "stdout",
     "output_type": "stream",
     "text": [
      "Number of rows after filtering: 63\n"
     ]
    }
   ],
   "source": [
    "filtered_data=data[(chol>246) & (target==1)]\n",
    "print(f\"Number of rows after filtering: {len(filtered_data)}\")"
   ]
  },
  {
   "cell_type": "markdown",
   "id": "1d9f0e94",
   "metadata": {},
   "source": [
    "how many people with chol over 246 and over the age of 54 have heart disease"
   ]
  },
  {
   "cell_type": "code",
   "execution_count": 40,
   "id": "25fe4966",
   "metadata": {},
   "outputs": [
    {
     "name": "stdout",
     "output_type": "stream",
     "text": [
      "Number of rows after filtering: 29\n"
     ]
    }
   ],
   "source": [
    "filtered_data=data[(chol>246) & (age>54) & (target==1)]\n",
    "print(f\"Number of rows after filtering: {len(filtered_data)}\")"
   ]
  },
  {
   "cell_type": "markdown",
   "id": "dd3f2058",
   "metadata": {},
   "source": [
    "how many people with chol over 246 and over the age of 54"
   ]
  },
  {
   "cell_type": "code",
   "execution_count": 41,
   "id": "6e555c58",
   "metadata": {},
   "outputs": [
    {
     "name": "stdout",
     "output_type": "stream",
     "text": [
      "Number of rows after filtering: 82\n"
     ]
    }
   ],
   "source": [
    "filtered_data=data[(chol>246) & (age>54)]\n",
    "print(f\"Number of rows after filtering: {len(filtered_data)}\")"
   ]
  },
  {
   "cell_type": "markdown",
   "id": "ba559eb3",
   "metadata": {},
   "source": [
    "### trestbps in study"
   ]
  },
  {
   "cell_type": "markdown",
   "id": "e0835b5f",
   "metadata": {},
   "source": [
    "Number of people with blood pressure"
   ]
  },
  {
   "cell_type": "code",
   "execution_count": 52,
   "id": "08763f2f",
   "metadata": {},
   "outputs": [
    {
     "name": "stdout",
     "output_type": "stream",
     "text": [
      "Number of rows after filtering: 124\n"
     ]
    }
   ],
   "source": [
    "filtered_data=data[(trestbps>132)]\n",
    "print(f\"Number of rows after filtering: {len(filtered_data)}\")"
   ]
  },
  {
   "cell_type": "markdown",
   "id": "944b44b3",
   "metadata": {},
   "source": [
    "How many people with a resting blood pressure over 132 have heart disease "
   ]
  },
  {
   "cell_type": "code",
   "execution_count": 48,
   "id": "6854816b",
   "metadata": {},
   "outputs": [
    {
     "name": "stdout",
     "output_type": "stream",
     "text": [
      "Number of rows after filtering: 62\n"
     ]
    }
   ],
   "source": [
    "filtered_data=data[(trestbps>132) & (target==1)]\n",
    "print(f\"Number of rows after filtering: {len(filtered_data)}\")"
   ]
  },
  {
   "cell_type": "markdown",
   "id": "ad9509c5",
   "metadata": {},
   "source": [
    "Number of people over the age of 54 and a higher blood pressure than 132"
   ]
  },
  {
   "cell_type": "code",
   "execution_count": 50,
   "id": "078512a7",
   "metadata": {},
   "outputs": [
    {
     "name": "stdout",
     "output_type": "stream",
     "text": [
      "Number of rows after filtering: 83\n"
     ]
    }
   ],
   "source": [
    "filtered_data=data[(trestbps>132) & (age>54)]\n",
    "print(f\"Number of rows after filtering: {len(filtered_data)}\")"
   ]
  },
  {
   "cell_type": "markdown",
   "id": "7369fabb",
   "metadata": {},
   "source": [
    "Number of people with a blood pressure over 132 and an age over 54 and heart disease"
   ]
  },
  {
   "cell_type": "code",
   "execution_count": 51,
   "id": "6484babb",
   "metadata": {},
   "outputs": [
    {
     "name": "stdout",
     "output_type": "stream",
     "text": [
      "Number of rows after filtering: 33\n"
     ]
    }
   ],
   "source": [
    "filtered_data=data[(trestbps>132) & (age>54) & (target==1)]\n",
    "print(f\"Number of rows after filtering: {len(filtered_data)}\")"
   ]
  },
  {
   "cell_type": "markdown",
   "id": "95a7e61d",
   "metadata": {},
   "source": [
    "### Correlation Analysis\n",
    "* due to target being binary the correlation analysis is not accurate"
   ]
  },
  {
   "cell_type": "code",
   "execution_count": 54,
   "id": "fe9451e7",
   "metadata": {},
   "outputs": [
    {
     "name": "stdout",
     "output_type": "stream",
     "text": [
      "Corr target and sex [[ 1.         -0.28093658]\n",
      " [-0.28093658  1.        ]]\n"
     ]
    }
   ],
   "source": [
    "corr_sex=np.corrcoef(target,sex,rowvar=False)\n",
    "print(f\"Corr target and sex {corr_sex}\")"
   ]
  },
  {
   "cell_type": "code",
   "execution_count": 55,
   "id": "094b7a75",
   "metadata": {},
   "outputs": [
    {
     "name": "stdout",
     "output_type": "stream",
     "text": [
      "Corr target and chol [[ 1.         -0.08523911]\n",
      " [-0.08523911  1.        ]]\n"
     ]
    }
   ],
   "source": [
    "corr_chol=np.corrcoef(target,chol,rowvar=False)\n",
    "print(f\"Corr target and chol {corr_chol}\")"
   ]
  },
  {
   "cell_type": "code",
   "execution_count": 56,
   "id": "aa50a591",
   "metadata": {},
   "outputs": [
    {
     "name": "stdout",
     "output_type": "stream",
     "text": [
      "Corr target and trestbps [[ 1.         -0.14493113]\n",
      " [-0.14493113  1.        ]]\n"
     ]
    }
   ],
   "source": [
    "corr_trestbps=np.corrcoef(target,trestbps,rowvar=False)\n",
    "print(f\"Corr target and trestbps {corr_trestbps}\")"
   ]
  },
  {
   "cell_type": "code",
   "execution_count": null,
   "id": "587f8e3e",
   "metadata": {},
   "outputs": [],
   "source": []
  }
 ],
 "metadata": {
  "kernelspec": {
   "display_name": "Python 3 (ipykernel)",
   "language": "python",
   "name": "python3"
  },
  "language_info": {
   "codemirror_mode": {
    "name": "ipython",
    "version": 3
   },
   "file_extension": ".py",
   "mimetype": "text/x-python",
   "name": "python",
   "nbconvert_exporter": "python",
   "pygments_lexer": "ipython3",
   "version": "3.11.4"
  }
 },
 "nbformat": 4,
 "nbformat_minor": 5
}
